{
 "cells": [
  {
   "cell_type": "code",
   "execution_count": 1,
   "id": "37041903-e9e5-4bc4-a990-04ec4bad111a",
   "metadata": {},
   "outputs": [],
   "source": [
    "from sklearn import svm\n",
    "from sklearn.datasets import load_diabetes\n",
    "from sklearn.metrics import r2_score\n",
    "from sklearn.model_selection import train_test_split\n",
    "from sklearn.metrics import mean_absolute_error\n",
    "from sklearn.metrics import root_mean_squared_error\n",
    "from sklearn.ensemble import AdaBoostRegressor\n",
    "from sklearn.ensemble import BaggingRegressor\n",
    "from sklearn.ensemble import RandomForestRegressor"
   ]
  },
  {
   "cell_type": "code",
   "execution_count": 2,
   "id": "c0760da5-18ae-4ede-801c-9037774704a8",
   "metadata": {},
   "outputs": [],
   "source": [
    "diabetes = load_diabetes()"
   ]
  },
  {
   "cell_type": "code",
   "execution_count": 3,
   "id": "99b3e064-006d-4464-b53c-d20ffd97ff7e",
   "metadata": {},
   "outputs": [
    {
     "name": "stdout",
     "output_type": "stream",
     "text": [
      "(442, 10) (442,)\n"
     ]
    },
    {
     "data": {
      "text/plain": [
       "((353, 10), (89, 10), (353,), (89,))"
      ]
     },
     "execution_count": 3,
     "metadata": {},
     "output_type": "execute_result"
    }
   ],
   "source": [
    "X, y = diabetes['data'], diabetes['target']\n",
    "X_train, X_test, y_train, y_test = train_test_split(X, y, test_size=0.2)\n",
    "print(X.shape,y.shape)\n",
    "X_train.shape, X_test.shape, y_train.shape, y_test.shape"
   ]
  },
  {
   "cell_type": "code",
   "execution_count": 4,
   "id": "6b6e4134-3c76-42d1-b1c4-a9432c9f0798",
   "metadata": {},
   "outputs": [
    {
     "data": {
      "text/plain": [
       "(0.18422648090477078, 71.37527678426308, 59.26546605252339)"
      ]
     },
     "execution_count": 4,
     "metadata": {},
     "output_type": "execute_result"
    }
   ],
   "source": [
    "reg = svm.SVR().fit(X_train, y_train)\n",
    "y_pred = reg.predict(X_test)\n",
    "r2_score(y_test, y_pred), root_mean_squared_error(y_test, y_pred),mean_absolute_error(y_test, y_pred)"
   ]
  },
  {
   "cell_type": "code",
   "execution_count": 5,
   "id": "a4057fc5-c70a-431c-9b66-1ae4473147c6",
   "metadata": {},
   "outputs": [
    {
     "name": "stdout",
     "output_type": "stream",
     "text": [
      "0.18422648090477078 71.37527678426308 59.26546605252339\n",
      "0.18422648090477078 71.37527678426308 59.26546605252339\n",
      "0.18422648090477078 71.37527678426308 59.26546605252339\n",
      "0.18422648090477078 71.37527678426308 59.26546605252339\n",
      "0.18422648090477078 71.37527678426308 59.26546605252339\n",
      "0.18422648090477078 71.37527678426308 59.26546605252339\n",
      "0.18422648090477078 71.37527678426308 59.26546605252339\n",
      "0.18422648090477078 71.37527678426308 59.26546605252339\n",
      "0.18422648090477078 71.37527678426308 59.26546605252339\n",
      "0.18422648090477078 71.37527678426308 59.26546605252339\n",
      "\n",
      "avg r2 score 0.1842264809047708\n",
      "avg rmse 71.37527678426308\n",
      "avg mae 59.265466052523394\n"
     ]
    }
   ],
   "source": [
    "avg = [[],[],[]]\n",
    "for i in range(10):\n",
    "    reg = svm.SVR().fit(X_train, y_train)\n",
    "    y_pred = reg.predict(X_test)\n",
    "    r2 = r2_score(y_test, y_pred)\n",
    "    rmse = root_mean_squared_error(y_test, y_pred)\n",
    "    mae = mean_absolute_error(y_test, y_pred)\n",
    "    print(r2,rmse,mae)\n",
    "    avg[0].append(r2)\n",
    "    avg[1].append(rmse)\n",
    "    avg[2].append(mae)\n",
    "print()\n",
    "print('avg r2 score',sum(avg[0])/10)\n",
    "print('avg rmse',sum(avg[1])/10)\n",
    "print('avg mae',sum(avg[2])/10)"
   ]
  },
  {
   "cell_type": "code",
   "execution_count": 6,
   "id": "64c726ce-17f5-49a6-b271-616f338b8af0",
   "metadata": {},
   "outputs": [
    {
     "data": {
      "text/plain": [
       "(0.20041405329516415, 70.66357084404254, 59.87141501674969)"
      ]
     },
     "execution_count": 6,
     "metadata": {},
     "output_type": "execute_result"
    }
   ],
   "source": [
    "regr = AdaBoostRegressor(estimator=svm.SVR(), n_estimators=100)\n",
    "regr.fit(X_train, y_train)\n",
    "y_pred = regr.predict(X_test)\n",
    "r2 = r2_score(y_test, y_pred)\n",
    "rmse = root_mean_squared_error(y_test, y_pred)\n",
    "mae = mean_absolute_error(y_test, y_pred)\n",
    "r2_score(y_test, y_pred), root_mean_squared_error(y_test, y_pred),mean_absolute_error(y_test, y_pred)"
   ]
  },
  {
   "cell_type": "code",
   "execution_count": 7,
   "id": "e665b8cf-6e95-4d68-8bf9-7b58ce046ddf",
   "metadata": {},
   "outputs": [
    {
     "name": "stdout",
     "output_type": "stream",
     "text": [
      "0.22969454992716387 69.35766902475035 58.72443410707138\n",
      "0.18019452012007342 71.55144553408898 60.5654063099208\n",
      "0.2133951477046938 70.08762024137127 58.71866512672325\n",
      "0.18896507022588904 71.16767583828525 60.2901871513777\n",
      "0.19753564813211966 70.79064640409786 59.710186972450586\n",
      "0.24841398410588478 68.50974469646685 56.909896960397774\n",
      "0.1823523076035689 71.45721919346136 60.12377454539031\n",
      "0.15543499388937043 72.62389626088014 61.99629959178905\n",
      "0.22103809343239933 69.74629038377842 58.350886961079034\n",
      "0.18749157892976376 71.23229535128294 60.46592946840029\n",
      "\n",
      "avg r2 score 0.2004515894070927\n",
      "avg rmse 70.65245029284634\n",
      "avg mae 59.58556671946002\n"
     ]
    }
   ],
   "source": [
    "avg = [[],[],[]]\n",
    "for i in range(10):\n",
    "    regr = AdaBoostRegressor(estimator=svm.SVR(), n_estimators=100)\n",
    "    regr.fit(X_train, y_train)\n",
    "    y_pred = regr.predict(X_test)\n",
    "    r2 = r2_score(y_test, y_pred)\n",
    "    rmse = root_mean_squared_error(y_test, y_pred)\n",
    "    mae = mean_absolute_error(y_test, y_pred)\n",
    "    print(r2,rmse,mae)\n",
    "    avg[0].append(r2)\n",
    "    avg[1].append(rmse)\n",
    "    avg[2].append(mae)\n",
    "print()\n",
    "print('avg r2 score',sum(avg[0])/10)\n",
    "print('avg rmse',sum(avg[1])/10)\n",
    "print('avg mae',sum(avg[2])/10)"
   ]
  },
  {
   "cell_type": "code",
   "execution_count": 8,
   "id": "39c197f5-c692-4881-bf57-8d2040cd7cd8",
   "metadata": {},
   "outputs": [
    {
     "name": "stdout",
     "output_type": "stream",
     "text": [
      "0.18785583701345965 71.21632637947381 59.27773862177352\n",
      "0.18948215084886888 71.1449855125628 59.152252440806855\n",
      "0.18645375506959794 71.27777363933404 59.24813937154394\n",
      "0.18999040406258494 71.12267549309621 59.25440395891149\n",
      "0.18979794518941429 71.13112439115032 59.197277688587675\n",
      "0.19036403934486523 71.1062701281272 59.13455904661978\n",
      "0.18692209574787078 71.25725416253438 59.401742570143135\n",
      "0.18794520737241893 71.21240786103405 59.232121804555106\n",
      "0.18905479159103233 71.163739239873 59.31848872483004\n",
      "0.1874211914616254 71.23538070535845 59.40653378852928\n",
      "\n",
      "avg r2 score 0.18852874177017384\n",
      "avg rmse 71.18679375125444\n",
      "avg mae 59.26232580163007\n"
     ]
    }
   ],
   "source": [
    "avg = [[],[],[]]\n",
    "for i in range(10):\n",
    "    regr = BaggingRegressor(estimator=svm.SVR(), n_estimators=100)\n",
    "    regr.fit(X_train, y_train)\n",
    "    y_pred = regr.predict(X_test)\n",
    "    r2 = r2_score(y_test, y_pred)\n",
    "    rmse = root_mean_squared_error(y_test, y_pred)\n",
    "    mae = mean_absolute_error(y_test, y_pred)\n",
    "    print(r2,rmse,mae)\n",
    "    avg[0].append(r2)\n",
    "    avg[1].append(rmse)\n",
    "    avg[2].append(mae)\n",
    "print()\n",
    "print('avg r2 score',sum(avg[0])/10)\n",
    "print('avg rmse',sum(avg[1])/10)\n",
    "print('avg mae',sum(avg[2])/10)"
   ]
  },
  {
   "cell_type": "code",
   "execution_count": 9,
   "id": "1eaaab7c-ba71-48e4-9ec3-caa961c58eec",
   "metadata": {},
   "outputs": [
    {
     "name": "stdout",
     "output_type": "stream",
     "text": [
      "0.18422648090477078 71.37527678426308 59.26546605252339\n",
      "0.18422648090477078 71.37527678426308 59.26546605252339\n",
      "0.18422648090477078 71.37527678426308 59.26546605252339\n",
      "0.18422648090477078 71.37527678426308 59.26546605252339\n",
      "0.18422648090477078 71.37527678426308 59.26546605252339\n",
      "0.18422648090477078 71.37527678426308 59.26546605252339\n",
      "0.18422648090477078 71.37527678426308 59.26546605252339\n",
      "0.18422648090477078 71.37527678426308 59.26546605252339\n",
      "0.18422648090477078 71.37527678426308 59.26546605252339\n",
      "0.18422648090477078 71.37527678426308 59.26546605252339\n",
      "\n",
      "avg r2 score 0.1842264809047708\n",
      "avg rmse 71.37527678426308\n",
      "avg mae 59.265466052523394\n"
     ]
    }
   ],
   "source": [
    "avg = [[],[],[]]\n",
    "for i in range(10):\n",
    "    regr = RandomForestRegressor(n_estimators=100)\n",
    "    regr = regrestimator=svm.SVR()\n",
    "    regr.fit(X_train, y_train)\n",
    "    y_pred = regr.predict(X_test)\n",
    "    r2 = r2_score(y_test, y_pred)\n",
    "    rmse = root_mean_squared_error(y_test, y_pred)\n",
    "    mae = mean_absolute_error(y_test, y_pred)\n",
    "    print(r2,rmse,mae)\n",
    "    avg[0].append(r2)\n",
    "    avg[1].append(rmse)\n",
    "    avg[2].append(mae)\n",
    "print()\n",
    "print('avg r2 score',sum(avg[0])/10)\n",
    "print('avg rmse',sum(avg[1])/10)\n",
    "print('avg mae',sum(avg[2])/10)"
   ]
  }
 ],
 "metadata": {
  "kernelspec": {
   "display_name": "Python 3 (ipykernel)",
   "language": "python",
   "name": "python3"
  },
  "language_info": {
   "codemirror_mode": {
    "name": "ipython",
    "version": 3
   },
   "file_extension": ".py",
   "mimetype": "text/x-python",
   "name": "python",
   "nbconvert_exporter": "python",
   "pygments_lexer": "ipython3",
   "version": "3.9.18"
  }
 },
 "nbformat": 4,
 "nbformat_minor": 5
}
